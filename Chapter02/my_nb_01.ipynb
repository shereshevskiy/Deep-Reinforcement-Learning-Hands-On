{
 "cells": [
  {
   "cell_type": "markdown",
   "id": "0f49eaed-69a7-448a-b50e-4f8503c02352",
   "metadata": {},
   "source": [
    "# <center>Сеанс CartPole"
   ]
  },
  {
   "cell_type": "code",
   "execution_count": 1,
   "id": "91d77728-eb0d-4a12-ba51-971bb434afa6",
   "metadata": {},
   "outputs": [],
   "source": [
    "import gym"
   ]
  },
  {
   "cell_type": "code",
   "execution_count": 2,
   "id": "deb077fd-9201-4706-98ea-7b60dfda2de2",
   "metadata": {},
   "outputs": [],
   "source": [
    "e = gym.make('CartPole-v0')"
   ]
  },
  {
   "cell_type": "code",
   "execution_count": 3,
   "id": "658f0cda-2885-4f6d-8a3c-b74e6bbb319f",
   "metadata": {},
   "outputs": [],
   "source": [
    "obs = e.reset()"
   ]
  },
  {
   "cell_type": "code",
   "execution_count": 4,
   "id": "ecad2c59-ca17-494d-824d-efd15f32081f",
   "metadata": {},
   "outputs": [
    {
     "data": {
      "text/plain": [
       "array([-0.04029797, -0.0063702 , -0.01134836,  0.03678935])"
      ]
     },
     "execution_count": 4,
     "metadata": {},
     "output_type": "execute_result"
    }
   ],
   "source": [
    "obs"
   ]
  },
  {
   "cell_type": "code",
   "execution_count": 5,
   "id": "f0333d37-fe93-4ffe-afbc-73c934564dcc",
   "metadata": {},
   "outputs": [
    {
     "data": {
      "text/plain": [
       "Discrete(2)"
      ]
     },
     "execution_count": 5,
     "metadata": {},
     "output_type": "execute_result"
    }
   ],
   "source": [
    "e.action_space"
   ]
  },
  {
   "cell_type": "code",
   "execution_count": 6,
   "id": "96be0b37-7938-4732-962e-ee3a91809e3d",
   "metadata": {},
   "outputs": [
    {
     "data": {
      "text/plain": [
       "Box(-3.4028234663852886e+38, 3.4028234663852886e+38, (4,), float32)"
      ]
     },
     "execution_count": 6,
     "metadata": {},
     "output_type": "execute_result"
    }
   ],
   "source": [
    "e.observation_space"
   ]
  },
  {
   "cell_type": "code",
   "execution_count": 12,
   "id": "6b80e2a1-27c1-47bc-94f9-6e18ddbfdde2",
   "metadata": {},
   "outputs": [
    {
     "data": {
      "text/plain": [
       "(array([-0.04042537, -0.20132759, -0.01061258,  0.32587026]), 1.0, False, {})"
      ]
     },
     "execution_count": 12,
     "metadata": {},
     "output_type": "execute_result"
    }
   ],
   "source": [
    "e.step(0)"
   ]
  },
  {
   "cell_type": "code",
   "execution_count": 13,
   "id": "36d692c1-f843-4610-8370-b7f5924b9698",
   "metadata": {},
   "outputs": [
    {
     "data": {
      "text/plain": [
       "0"
      ]
     },
     "execution_count": 13,
     "metadata": {},
     "output_type": "execute_result"
    }
   ],
   "source": [
    "e.action_space.sample()"
   ]
  },
  {
   "cell_type": "code",
   "execution_count": 29,
   "id": "4058fa8f-32c1-4028-913c-d5e8d6d95290",
   "metadata": {},
   "outputs": [
    {
     "data": {
      "text/plain": [
       "1"
      ]
     },
     "execution_count": 29,
     "metadata": {},
     "output_type": "execute_result"
    }
   ],
   "source": [
    "e.action_space.sample()"
   ]
  },
  {
   "cell_type": "code",
   "execution_count": 20,
   "id": "09453c4c-49c8-4bcd-9dc4-d97dd1a95620",
   "metadata": {},
   "outputs": [
    {
     "data": {
      "text/plain": [
       "array([-3.3556747e+00, -1.2783628e+38,  3.1891266e-01,  4.8188221e+37],\n",
       "      dtype=float32)"
      ]
     },
     "execution_count": 20,
     "metadata": {},
     "output_type": "execute_result"
    }
   ],
   "source": [
    "e.observation_space.sample()"
   ]
  },
  {
   "cell_type": "code",
   "execution_count": 21,
   "id": "ef3650db-c933-46ea-aaed-03a226c7604e",
   "metadata": {},
   "outputs": [
    {
     "data": {
      "text/plain": [
       "array([-9.6189833e-01,  3.1861988e+38, -3.1461969e-01, -3.7394140e+36],\n",
       "      dtype=float32)"
      ]
     },
     "execution_count": 21,
     "metadata": {},
     "output_type": "execute_result"
    }
   ],
   "source": [
    "e.observation_space.sample()"
   ]
  },
  {
   "cell_type": "markdown",
   "id": "f52ca6ca-ccb2-4a96-8b7e-c096dff88bd7",
   "metadata": {},
   "source": [
    "## Агент CartPole, действующий случайным образом"
   ]
  },
  {
   "cell_type": "code",
   "execution_count": 30,
   "id": "74d605af-ba96-4f16-80c4-cee9737a1e0f",
   "metadata": {},
   "outputs": [],
   "source": [
    "def main():\n",
    "    env = gym.make(\"CartPole-v0\")\n",
    "\n",
    "    total_reward = 0.0\n",
    "    total_steps = 0\n",
    "    obs = env.reset()\n",
    "\n",
    "    while True:\n",
    "        action = env.action_space.sample()\n",
    "        obs, reward, done, _ = env.step(action)\n",
    "        total_reward += reward\n",
    "        total_steps += 1\n",
    "        if done:\n",
    "            break\n",
    "\n",
    "    print(\"Episode done in %d steps, total reward %.2f\" % (total_steps, total_reward))"
   ]
  },
  {
   "cell_type": "code",
   "execution_count": 31,
   "id": "bd61616e-d525-4917-b87a-eb667254c98c",
   "metadata": {},
   "outputs": [
    {
     "name": "stdout",
     "output_type": "stream",
     "text": [
      "Episode done in 17 steps, total reward 17.00\n"
     ]
    }
   ],
   "source": [
    "main()"
   ]
  },
  {
   "cell_type": "code",
   "execution_count": null,
   "id": "6fbe92ba-8ec2-43d1-a7fa-580346a3a601",
   "metadata": {},
   "outputs": [],
   "source": []
  }
 ],
 "metadata": {
  "kernelspec": {
   "display_name": "Python 3",
   "language": "python",
   "name": "python3"
  },
  "language_info": {
   "codemirror_mode": {
    "name": "ipython",
    "version": 3
   },
   "file_extension": ".py",
   "mimetype": "text/x-python",
   "name": "python",
   "nbconvert_exporter": "python",
   "pygments_lexer": "ipython3",
   "version": "3.8.6"
  }
 },
 "nbformat": 4,
 "nbformat_minor": 5
}
